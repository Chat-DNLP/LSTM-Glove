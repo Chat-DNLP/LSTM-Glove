{
  "cells": [
    {
      "cell_type": "markdown",
      "metadata": {
        "id": "xRYf_DLv1CXP"
      },
      "source": [
        "# Práctica 1: Uso de embeddings preentrenados"
      ]
    },
    {
      "cell_type": "markdown",
      "metadata": {
        "id": "EmpPN8X_1CXS"
      },
      "source": [
        "Modifica el código anterior para adaptar el modelo LSTM al uso de embeddings preentrenados. Para ello, usa from torchtext.vocab import GloVe y elige el conjunto de embeddings GloVe que prefieras. Puedes encontrar más información en https://pytorch.org/text/stable/vocab.html#torchtext.vocab.GloVe\n",
        "\n",
        "Verifica si se produce una mejora en la precisión del modelo."
      ]
    },
    {
      "cell_type": "code",
      "execution_count": 1,
      "metadata": {
        "colab": {
          "base_uri": "https://localhost:8080/"
        },
        "id": "HgYTxjtP1EGL",
        "outputId": "808b0a93-6316-427d-ade4-5c57df5a082b"
      },
      "outputs": [
        {
          "name": "stdout",
          "output_type": "stream",
          "text": [
            "Found existing installation: torch 2.0.1+cu118\n",
            "Uninstalling torch-2.0.1+cu118:\n",
            "  Successfully uninstalled torch-2.0.1+cu118\n",
            "Found existing installation: torchtext 0.15.2+cpu\n",
            "Uninstalling torchtext-0.15.2+cpu:\n",
            "  Successfully uninstalled torchtext-0.15.2+cpu\n",
            "Looking in indexes: https://download.pytorch.org/whl/cu118\n",
            "Collecting torch==2.0.1\n",
            "  Using cached https://download.pytorch.org/whl/cu118/torch-2.0.1%2Bcu118-cp310-cp310-linux_x86_64.whl (2267.3 MB)\n",
            "Collecting torchtext==0.15.2\n",
            "  Using cached https://download.pytorch.org/whl/torchtext-0.15.2%2Bcpu-cp310-cp310-linux_x86_64.whl (2.0 MB)\n",
            "Requirement already satisfied: filelock in /usr/local/lib/python3.10/dist-packages (from torch==2.0.1) (3.16.1)\n",
            "Requirement already satisfied: typing-extensions in /usr/local/lib/python3.10/dist-packages (from torch==2.0.1) (4.12.2)\n",
            "Requirement already satisfied: sympy in /usr/local/lib/python3.10/dist-packages (from torch==2.0.1) (1.13.3)\n",
            "Requirement already satisfied: networkx in /usr/local/lib/python3.10/dist-packages (from torch==2.0.1) (3.4.1)\n",
            "Requirement already satisfied: jinja2 in /usr/local/lib/python3.10/dist-packages (from torch==2.0.1) (3.1.4)\n",
            "Requirement already satisfied: triton==2.0.0 in /usr/local/lib/python3.10/dist-packages (from torch==2.0.1) (2.0.0)\n",
            "Requirement already satisfied: tqdm in /usr/local/lib/python3.10/dist-packages (from torchtext==0.15.2) (4.66.5)\n",
            "Requirement already satisfied: requests in /usr/local/lib/python3.10/dist-packages (from torchtext==0.15.2) (2.32.3)\n",
            "Requirement already satisfied: numpy in /usr/local/lib/python3.10/dist-packages (from torchtext==0.15.2) (1.26.4)\n",
            "Requirement already satisfied: torchdata==0.6.1 in /usr/local/lib/python3.10/dist-packages (from torchtext==0.15.2) (0.6.1)\n",
            "Requirement already satisfied: urllib3>=1.25 in /usr/local/lib/python3.10/dist-packages (from torchdata==0.6.1->torchtext==0.15.2) (2.2.3)\n",
            "Requirement already satisfied: cmake in /usr/local/lib/python3.10/dist-packages (from triton==2.0.0->torch==2.0.1) (3.30.4)\n",
            "Requirement already satisfied: lit in /usr/local/lib/python3.10/dist-packages (from triton==2.0.0->torch==2.0.1) (15.0.7)\n",
            "Requirement already satisfied: MarkupSafe>=2.0 in /usr/local/lib/python3.10/dist-packages (from jinja2->torch==2.0.1) (3.0.1)\n",
            "Requirement already satisfied: charset-normalizer<4,>=2 in /usr/local/lib/python3.10/dist-packages (from requests->torchtext==0.15.2) (3.4.0)\n",
            "Requirement already satisfied: idna<4,>=2.5 in /usr/local/lib/python3.10/dist-packages (from requests->torchtext==0.15.2) (3.10)\n",
            "Requirement already satisfied: certifi>=2017.4.17 in /usr/local/lib/python3.10/dist-packages (from requests->torchtext==0.15.2) (2024.8.30)\n",
            "Requirement already satisfied: mpmath<1.4,>=1.1.0 in /usr/local/lib/python3.10/dist-packages (from sympy->torch==2.0.1) (1.3.0)\n",
            "Installing collected packages: torch, torchtext\n",
            "\u001b[31mERROR: pip's dependency resolver does not currently take into account all the packages that are installed. This behaviour is the source of the following dependency conflicts.\n",
            "torchaudio 2.4.1+cu121 requires torch==2.4.1, but you have torch 2.0.1+cu118 which is incompatible.\n",
            "torchvision 0.19.1+cu121 requires torch==2.4.1, but you have torch 2.0.1+cu118 which is incompatible.\u001b[0m\u001b[31m\n",
            "\u001b[0mSuccessfully installed torch-2.0.1+cu118 torchtext-0.15.2+cpu\n"
          ]
        }
      ],
      "source": [
        "!pip uninstall torch torchtext -y\n",
        "!pip install torch==2.0.1 torchtext==0.15.2 --index-url https://download.pytorch.org/whl/cu118\n",
        "!pip install portalocker>=2.0.0"
      ]
    },
    {
      "cell_type": "code",
      "execution_count": 2,
      "metadata": {
        "id": "vgwb5GNT1CXU"
      },
      "outputs": [],
      "source": [
        "import numpy as np\n",
        "import pandas as pd\n",
        "import matplotlib.pyplot as plt\n",
        "import torch\n",
        "import time\n",
        "\n",
        "import torch.nn as nn\n",
        "from torchtext import datasets\n",
        "from torchtext.data import to_map_style_dataset\n",
        "from torch.utils.data import DataLoader\n",
        "from torchtext.data.utils import get_tokenizer\n",
        "from torchtext.vocab import build_vocab_from_iterator, GloVe\n",
        "\n",
        "from IPython.display import display, HTML"
      ]
    },
    {
      "cell_type": "markdown",
      "metadata": {
        "id": "HvZp4Qiz1CXX"
      },
      "source": [
        "## 1. Cargar el dataset\n",
        "\n",
        "El dataset \"AG_NEWS\" es un conjunto de datos ampliamente empleado en el ámbito del procesamiento del lenguaje natural (NLP) para tareas de clasificación de texto. Está compuesto por noticias de diversas categorías y se usa con frecuencia para clasificar textos. Este dataset incluye cuatro categorías principales de noticias:\n",
        "\n",
        "1. **World**: Noticias sobre eventos globales, como política internacional, relaciones entre países y sucesos mundiales en general.\n",
        "2. **Sports**: Información relacionada con deportes, como eventos, resultados de partidos y competiciones tanto nacionales como internacionales.\n",
        "3. **Business**: Noticias del ámbito empresarial, financiero y económico, que abarcan temas como empresas, economía, informes de ganancias, entre otros.\n",
        "4. **Sci/Tech**: Noticias vinculadas a la ciencia y tecnología, incluyendo avances científicos, innovaciones tecnológicas, gadgets y descubrimientos.\n",
        "\n",
        "Cada registro en AG_NEWS típicamente incluye un título y el contenido de la noticia, junto con una etiqueta que indica la categoría correspondiente."
      ]
    },
    {
      "cell_type": "code",
      "execution_count": 3,
      "metadata": {
        "id": "1KzHPAbI1CXX"
      },
      "outputs": [],
      "source": [
        "train_iter, test_iter = datasets.AG_NEWS(split=('train', 'test'))\n",
        "\n",
        "train_ds = to_map_style_dataset(train_iter)\n",
        "test_ds = to_map_style_dataset(test_iter)\n",
        "\n",
        "train = np.array(train_ds)\n",
        "test = np.array(test_ds)"
      ]
    },
    {
      "cell_type": "markdown",
      "metadata": {
        "id": "WpiwZpTX1CXX"
      },
      "source": [
        "## 2. Tokenización\n",
        "\n",
        "Este código se utiliza para procesar texto en una tarea de procesamiento de lenguaje natural (NLP). Primero, se obtiene un *tokenizer* que convierte texto en una lista de palabras usando un enfoque básico de inglés. Luego, se construye un vocabulario a partir de un conjunto de datos de entrenamiento, donde cada texto es tokenizado, y se añaden dos tokens especiales: `'<pad>'` para el relleno y `'<unk>'` para palabras desconocidas. Se define el tamaño del vocabulario y se crea una función (*pipeline*) que convierte el texto en una secuencia de índices de palabras según el vocabulario, mientras que otra función convierte las etiquetas en enteros decreciendo en uno."
      ]
    },
    {
      "cell_type": "code",
      "execution_count": 4,
      "metadata": {
        "colab": {
          "base_uri": "https://localhost:8080/"
        },
        "id": "AQq-Und71CXY",
        "outputId": "4833034d-f247-4908-bc58-cef5cf805c80"
      },
      "outputs": [
        {
          "name": "stdout",
          "output_type": "stream",
          "text": [
            "Tamaño del vocabulario: 95812\n"
          ]
        }
      ],
      "source": [
        "tokenizer = get_tokenizer(\"basic_english\")\n",
        "\n",
        "vocab = build_vocab_from_iterator(map(lambda x: tokenizer(x[1]), train_iter), specials=['<pad>','<unk>'])\n",
        "vocab.set_default_index(vocab[\"<unk>\"])\n",
        "\n",
        "vocab_size = len(vocab)\n",
        "print(f\"Tamaño del vocabulario: {vocab_size}\")\n",
        "\n",
        "text_pipeline = lambda x: vocab(tokenizer(x))\n",
        "label_pipeline = lambda x: int(x) - 1"
      ]
    },
    {
      "cell_type": "markdown",
      "metadata": {
        "id": "I0DE2Bd-1CXZ"
      },
      "source": [
        "## 3. Dataloader\n",
        "\n",
        "Se preparan los datos para ser utilizados el modelo. La función `collate_batch` toma un lote de muestras (batch), separa las etiquetas y los textos, y luego procesa los textos convirtiéndolos en tensores de números enteros mediante la función `text_pipeline`. Las etiquetas también se transforman con `label_pipeline`. Los textos se rellenan (padding) para que todos tengan la misma longitud, usando el token especial `'<pad>'`. Después, se crean dos *DataLoaders* para manejar el conjunto de datos de entrenamiento y prueba, con un tamaño de lote de 64, que usa `collate_batch` para procesar cada lote. Finalmente, se carga la matriz de embeddings preentrenados de GloVe para representar las palabras del vocabulario, asignando vectores de dimensión 100 a cada palabra en el vocabulario."
      ]
    },
    {
      "cell_type": "code",
      "execution_count": 5,
      "metadata": {
        "id": "u9P_e8aE1CXZ"
      },
      "outputs": [],
      "source": [
        "def collate_batch(batch):\n",
        "    label_list, text_list = [], []\n",
        "    for sample in batch:\n",
        "        label, text = sample\n",
        "        text_list.append(torch.tensor(text_pipeline(text), dtype=torch.long))\n",
        "        label_list.append(label_pipeline(label))\n",
        "    return torch.tensor(label_list, dtype=torch.long), torch.nn.utils.rnn.pad_sequence(text_list, batch_first=True, padding_value=vocab[\"<pad>\"])\n",
        "\n",
        "train_dataloader = DataLoader(\n",
        "    train_iter, batch_size=64, shuffle=True, collate_fn=collate_batch\n",
        ")\n",
        "\n",
        "test_dataloader = DataLoader(\n",
        "    test_iter, batch_size=64, shuffle=True, collate_fn=collate_batch\n",
        ")"
      ]
    },
    {
      "cell_type": "markdown",
      "metadata": {
        "id": "SgAdAIbsrzSG"
      },
      "source": [
        "En `torchtext.vocab.GloVe` se dispone de varios modelos preentrenados de *word embeddings* que permiten representar palabras en vectores numéricos. Algunos de los modelos disponibles son:\n",
        "\n",
        "- **glove.42B.300d**: Entrenado en un corpus de 42 mil millones de palabras, con vectores de 300 dimensiones.\n",
        "- **glove.840B.300d**: Entrenado en un corpus más extenso de 840 mil millones de palabras, con vectores de 300 dimensiones.\n",
        "- **glove.twitter.27B.xxd**: Basado en 27 mil millones de palabras de Twitter, con vectores de 25,50,100 y 200 dimensiones.\n",
        "- **glove.6B.50d**: Entrenado en un corpus de 6 mil millones de palabras, con vectores de 50, 100, 200 y 300 dimensiones.\n",
        "\n",
        "Se han seleccionado los modelos **glove.6B** para este caso particular ya que, entre los diferentes disponibles, son los que tienen un menor tamaño en términos de almacenamiento y son más livianos en comparación con los entrenados en corpus más grandes, como los de 42B o 840B. Esto permite un balance adecuado entre rendimiento y consumo de recursos, ideal para tareas que no requieren un modelo de gran escala. A continuación, se cargan las matrices de embeddings para las distintas dimensiones del modelo **6B**:\n",
        "\n",
        "- `glove_6B_50`: Modelo con 50 dimensiones, obteniendo la matriz de embeddings correspondiente (`embedding_matrix_50`).\n",
        "- `glove_6B_100`: Modelo con 100 dimensiones, obteniendo la matriz (`embedding_matrix_100`).\n",
        "- `glove_6B_200`: Modelo con 200 dimensiones, y su matriz de embeddings (`embedding_matrix_200`).\n",
        "- `glove_6B_300`: Modelo con 300 dimensiones, con su correspondiente matriz (`embedding_matrix_300`).\n",
        "\n",
        "Cada matriz se genera utilizando el vocabulario específico del modelo, asegurando que las representaciones de las palabras estén alineadas con los embeddings preentrenados."
      ]
    },
    {
      "cell_type": "code",
      "execution_count": 6,
      "metadata": {
        "id": "Y0dFHBe-rzSG"
      },
      "outputs": [],
      "source": [
        "glove_6B_50 = GloVe(name='6B', dim=50)\n",
        "embedding_matrix_50 = glove_6B_50.get_vecs_by_tokens(vocab.get_itos())\n",
        "\n",
        "glove_6B_100 = GloVe(name='6B', dim=100)\n",
        "embedding_matrix_100 = glove_6B_100.get_vecs_by_tokens(vocab.get_itos())\n",
        "\n",
        "glove_6B_200 = GloVe(name='6B', dim=200)\n",
        "embedding_matrix_200 = glove_6B_200.get_vecs_by_tokens(vocab.get_itos())\n",
        "\n",
        "glove_6B_300 = GloVe(name='6B', dim=300)\n",
        "embedding_matrix_300 = glove_6B_300.get_vecs_by_tokens(vocab.get_itos())"
      ]
    },
    {
      "cell_type": "markdown",
      "metadata": {
        "id": "cKL2JE2M1CXa"
      },
      "source": [
        "## 4. Modelo LSTM\n",
        "\n",
        "Este modelo, llamado `LSTMTextClassificationModel`, es una red neuronal para clasificación de texto que utiliza una arquitectura LSTM (*Long Short-Term Memory*), diseñada para capturar dependencias secuenciales en los datos de texto. Funciona de la siguiente manera:\n",
        "\n",
        "1. **Inicialización**:\n",
        "   - El modelo recibe el tamaño del vocabulario (`vocab_size`), la dimensión de los embeddings (`embed_dim`), la dimensión oculta del LSTM (`hidden_dim`), el número de clases a predecir (`num_class`), y una matriz de embeddings preentrenados (`embedding_matrix`).\n",
        "   - Se inicializa una capa de *embedding* que convierte palabras en vectores utilizando los embeddings preentrenados.\n",
        "   - Se añade una capa LSTM, que procesa la secuencia de vectores para aprender las dependencias temporales del texto.\n",
        "   - Finalmente, hay una capa completamente conectada (*fully connected* o `fc`) que reduce la salida del LSTM a una predicción sobre las clases.\n",
        "\n",
        "2. **Forward Pass**:\n",
        "   - El texto de entrada es convertido en vectores a través de la capa de embeddings.\n",
        "   - Estos vectores se pasan por la capa LSTM, que genera una secuencia de representaciones ocultas.\n",
        "   - De las salidas de la LSTM, se selecciona la última (que representa la última palabra del texto) y se pasa a través de la capa completamente conectada para obtener la predicción final sobre las clases."
      ]
    },
    {
      "cell_type": "code",
      "execution_count": 7,
      "metadata": {
        "id": "mzcWG1U21CXb"
      },
      "outputs": [],
      "source": [
        "class LSTMTextClassificationModel(nn.Module):\n",
        "    def __init__(self, vocab_size, embed_dim, hidden_dim, num_class, embedding_matrix):\n",
        "        super(LSTMTextClassificationModel, self).__init__()\n",
        "        self.embedding = nn.Embedding.from_pretrained(embedding_matrix)\n",
        "        self.lstm = nn.LSTM(embed_dim, hidden_dim, batch_first=True)\n",
        "        self.fc = nn.Linear(hidden_dim, num_class)\n",
        "\n",
        "    def forward(self, text):\n",
        "        embedded = self.embedding(text)\n",
        "        lstm_out, _ = self.lstm(embedded)\n",
        "        last_output = lstm_out[:, -1, :]\n",
        "        output = self.fc(last_output)\n",
        "        return output"
      ]
    },
    {
      "cell_type": "code",
      "execution_count": 8,
      "metadata": {
        "id": "S4cjefzR1CXb"
      },
      "outputs": [],
      "source": [
        "model_50 = LSTMTextClassificationModel(vocab_size, glove_6B_50.dim, 64, 4, embedding_matrix_50)\n",
        "model_100 = LSTMTextClassificationModel(vocab_size, glove_6B_100.dim, 64, 4, embedding_matrix_100)\n",
        "model_200 = LSTMTextClassificationModel(vocab_size, glove_6B_200.dim, 64, 4, embedding_matrix_200)\n",
        "model_300 = LSTMTextClassificationModel(vocab_size, glove_6B_300.dim, 64, 4, embedding_matrix_300)"
      ]
    },
    {
      "cell_type": "markdown",
      "metadata": {
        "id": "qADHacdA1CXc"
      },
      "source": [
        "## 5. Entrenamiento\n",
        "\n",
        "En este apartado se procede a entrenar los distintos modelos con la finalidad de observar si existen diferencias entre las dimensiones del vector de *embedding*."
      ]
    },
    {
      "cell_type": "code",
      "execution_count": 9,
      "metadata": {
        "id": "JmDvmqI81CXc"
      },
      "outputs": [],
      "source": [
        "def train(model, dataloader, criterion, optimizer):\n",
        "\n",
        "    model.train()\n",
        "    total_acc, total_count, max_acc = 0, 0, 0\n",
        "    log_interval = 500\n",
        "    start_time = time.time()\n",
        "\n",
        "    for idx, (label, text) in enumerate(dataloader):\n",
        "        optimizer.zero_grad()\n",
        "        predicted_label = model(text)\n",
        "        loss = criterion(predicted_label, label)\n",
        "        loss.backward()\n",
        "        torch.nn.utils.clip_grad_norm_(model.parameters(), 0.1)\n",
        "        optimizer.step()\n",
        "\n",
        "        total_acc += (predicted_label.argmax(1) == label).sum().item()\n",
        "        total_count += label.size(0)\n",
        "        if idx % log_interval == 0 and idx > 0:\n",
        "            elapsed = time.time() - start_time\n",
        "            print('| {:5d} batches '\n",
        "                  '| accuracy {:8.3f}'.format(idx, total_acc / total_count))\n",
        "\n",
        "            if max_acc < total_acc / total_count:\n",
        "                max_acc = total_acc / total_count\n",
        "\n",
        "            total_acc, total_count = 0, 0\n",
        "            start_time = time.time()\n",
        "    return max_acc\n",
        "\n",
        "\n",
        "def evaluate(model, dataloader, criterion):\n",
        "    model.eval()\n",
        "    total_acc, total_count = 0, 0\n",
        "\n",
        "    with torch.no_grad():\n",
        "        for idx, (label, text) in enumerate(dataloader):\n",
        "            predicted_label = model(text)\n",
        "            loss = criterion(predicted_label, label)\n",
        "            total_acc += (predicted_label.argmax(1) == label).sum().item()\n",
        "            total_count += label.size(0)\n",
        "    return total_acc / total_count"
      ]
    },
    {
      "cell_type": "code",
      "execution_count": 10,
      "metadata": {
        "id": "JEBlEJrFrzSI"
      },
      "outputs": [],
      "source": [
        "EPOCHS = 10\n",
        "LR = 5\n",
        "\n",
        "criterion = torch.nn.CrossEntropyLoss()\n",
        "optimizer_50 = torch.optim.SGD(model_50.parameters(), lr=LR)\n",
        "scheduler_50 = torch.optim.lr_scheduler.StepLR(optimizer_50, 1.0, gamma=0.1)\n",
        "\n",
        "optimizer_100 = torch.optim.SGD(model_100.parameters(), lr=LR)\n",
        "scheduler_100 = torch.optim.lr_scheduler.StepLR(optimizer_100, 1.0, gamma=0.1)\n",
        "\n",
        "optimizer_200 = torch.optim.SGD(model_200.parameters(), lr=LR)\n",
        "scheduler_200 = torch.optim.lr_scheduler.StepLR(optimizer_200, 1.0, gamma=0.1)\n",
        "\n",
        "optimizer_300 = torch.optim.SGD(model_300.parameters(), lr=LR)\n",
        "scheduler_300 = torch.optim.lr_scheduler.StepLR(optimizer_300, 1.0, gamma=0.1)\n",
        "\n",
        "models = {\n",
        "    \"model_50\": (model_50, optimizer_50, scheduler_50),\n",
        "    \"model_100\": (model_100, optimizer_100, scheduler_100),\n",
        "    \"model_200\": (model_200, optimizer_200, scheduler_200),\n",
        "    \"model_300\": (model_300, optimizer_300, scheduler_300)\n",
        "}"
      ]
    },
    {
      "cell_type": "code",
      "execution_count": 11,
      "metadata": {
        "colab": {
          "base_uri": "https://localhost:8080/",
          "height": 1000
        },
        "id": "k8HYJLPN1CXd",
        "outputId": "dce1003e-dac5-4722-81a1-13278f8f7729"
      },
      "outputs": [
        {
          "data": {
            "text/html": [
              "<h1>Training model_50</h1>"
            ],
            "text/plain": [
              "<IPython.core.display.HTML object>"
            ]
          },
          "metadata": {},
          "output_type": "display_data"
        },
        {
          "name": "stdout",
          "output_type": "stream",
          "text": [
            "|   500 batches | accuracy    0.255\n",
            "|  1000 batches | accuracy    0.255\n",
            "|  1500 batches | accuracy    0.257\n",
            "-----------------------------------------------------------\n",
            "| end of epoch   1 | time: 124.95s | valid accuracy    0.637 \n",
            "-----------------------------------------------------------\n",
            "|   500 batches | accuracy    0.696\n",
            "|  1000 batches | accuracy    0.800\n",
            "|  1500 batches | accuracy    0.866\n",
            "-----------------------------------------------------------\n",
            "| end of epoch   2 | time: 117.29s | valid accuracy    0.874 \n",
            "-----------------------------------------------------------\n",
            "|   500 batches | accuracy    0.870\n",
            "|  1000 batches | accuracy    0.883\n",
            "|  1500 batches | accuracy    0.902\n",
            "-----------------------------------------------------------\n",
            "| end of epoch   3 | time: 116.96s | valid accuracy    0.883 \n",
            "-----------------------------------------------------------\n",
            "|   500 batches | accuracy    0.888\n",
            "|  1000 batches | accuracy    0.898\n",
            "|  1500 batches | accuracy    0.916\n",
            "-----------------------------------------------------------\n",
            "| end of epoch   4 | time: 125.56s | valid accuracy    0.900 \n",
            "-----------------------------------------------------------\n",
            "|   500 batches | accuracy    0.891\n",
            "|  1000 batches | accuracy    0.901\n",
            "|  1500 batches | accuracy    0.918\n",
            "-----------------------------------------------------------\n",
            "| end of epoch   5 | time: 117.25s | valid accuracy    0.899 \n",
            "-----------------------------------------------------------\n",
            "|   500 batches | accuracy    0.891\n",
            "|  1000 batches | accuracy    0.900\n",
            "|  1500 batches | accuracy    0.917\n",
            "-----------------------------------------------------------\n",
            "| end of epoch   6 | time: 117.00s | valid accuracy    0.901 \n",
            "-----------------------------------------------------------\n",
            "|   500 batches | accuracy    0.891\n",
            "|  1000 batches | accuracy    0.900\n",
            "|  1500 batches | accuracy    0.918\n",
            "-----------------------------------------------------------\n",
            "| end of epoch   7 | time: 117.49s | valid accuracy    0.902 \n",
            "-----------------------------------------------------------\n",
            "|   500 batches | accuracy    0.893\n",
            "|  1000 batches | accuracy    0.899\n",
            "|  1500 batches | accuracy    0.918\n",
            "-----------------------------------------------------------\n",
            "| end of epoch   8 | time: 118.05s | valid accuracy    0.902 \n",
            "-----------------------------------------------------------\n",
            "|   500 batches | accuracy    0.891\n",
            "|  1000 batches | accuracy    0.902\n",
            "|  1500 batches | accuracy    0.916\n",
            "-----------------------------------------------------------\n",
            "| end of epoch   9 | time: 123.01s | valid accuracy    0.900 \n",
            "-----------------------------------------------------------\n",
            "|   500 batches | accuracy    0.892\n",
            "|  1000 batches | accuracy    0.900\n",
            "|  1500 batches | accuracy    0.918\n",
            "-----------------------------------------------------------\n",
            "| end of epoch  10 | time: 116.89s | valid accuracy    0.902 \n",
            "-----------------------------------------------------------\n",
            "\n",
            "\n"
          ]
        },
        {
          "data": {
            "text/html": [
              "<h1>Training model_100</h1>"
            ],
            "text/plain": [
              "<IPython.core.display.HTML object>"
            ]
          },
          "metadata": {},
          "output_type": "display_data"
        },
        {
          "name": "stdout",
          "output_type": "stream",
          "text": [
            "|   500 batches | accuracy    0.253\n",
            "|  1000 batches | accuracy    0.253\n",
            "|  1500 batches | accuracy    0.306\n",
            "-----------------------------------------------------------\n",
            "| end of epoch   1 | time: 162.15s | valid accuracy    0.693 \n",
            "-----------------------------------------------------------\n",
            "|   500 batches | accuracy    0.685\n",
            "|  1000 batches | accuracy    0.692\n",
            "|  1500 batches | accuracy    0.856\n",
            "-----------------------------------------------------------\n",
            "| end of epoch   2 | time: 148.75s | valid accuracy    0.871 \n",
            "-----------------------------------------------------------\n",
            "|   500 batches | accuracy    0.879\n",
            "|  1000 batches | accuracy    0.887\n",
            "|  1500 batches | accuracy    0.902\n",
            "-----------------------------------------------------------\n",
            "| end of epoch   3 | time: 149.47s | valid accuracy    0.895 \n",
            "-----------------------------------------------------------\n",
            "|   500 batches | accuracy    0.890\n",
            "|  1000 batches | accuracy    0.900\n",
            "|  1500 batches | accuracy    0.916\n",
            "-----------------------------------------------------------\n",
            "| end of epoch   4 | time: 155.06s | valid accuracy    0.900 \n",
            "-----------------------------------------------------------\n",
            "|   500 batches | accuracy    0.895\n",
            "|  1000 batches | accuracy    0.901\n",
            "|  1500 batches | accuracy    0.918\n",
            "-----------------------------------------------------------\n",
            "| end of epoch   5 | time: 149.29s | valid accuracy    0.900 \n",
            "-----------------------------------------------------------\n",
            "|   500 batches | accuracy    0.894\n",
            "|  1000 batches | accuracy    0.902\n",
            "|  1500 batches | accuracy    0.920\n",
            "-----------------------------------------------------------\n",
            "| end of epoch   6 | time: 148.81s | valid accuracy    0.904 \n",
            "-----------------------------------------------------------\n",
            "|   500 batches | accuracy    0.894\n",
            "|  1000 batches | accuracy    0.901\n",
            "|  1500 batches | accuracy    0.920\n",
            "-----------------------------------------------------------\n",
            "| end of epoch   7 | time: 148.10s | valid accuracy    0.904 \n",
            "-----------------------------------------------------------\n",
            "|   500 batches | accuracy    0.894\n",
            "|  1000 batches | accuracy    0.903\n",
            "|  1500 batches | accuracy    0.919\n",
            "-----------------------------------------------------------\n",
            "| end of epoch   8 | time: 150.02s | valid accuracy    0.903 \n",
            "-----------------------------------------------------------\n",
            "|   500 batches | accuracy    0.894\n",
            "|  1000 batches | accuracy    0.901\n",
            "|  1500 batches | accuracy    0.921\n",
            "-----------------------------------------------------------\n",
            "| end of epoch   9 | time: 148.28s | valid accuracy    0.905 \n",
            "-----------------------------------------------------------\n",
            "|   500 batches | accuracy    0.894\n",
            "|  1000 batches | accuracy    0.903\n",
            "|  1500 batches | accuracy    0.918\n",
            "-----------------------------------------------------------\n",
            "| end of epoch  10 | time: 148.48s | valid accuracy    0.903 \n",
            "-----------------------------------------------------------\n",
            "\n",
            "\n"
          ]
        },
        {
          "data": {
            "text/html": [
              "<h1>Training model_200</h1>"
            ],
            "text/plain": [
              "<IPython.core.display.HTML object>"
            ]
          },
          "metadata": {},
          "output_type": "display_data"
        },
        {
          "name": "stdout",
          "output_type": "stream",
          "text": [
            "|   500 batches | accuracy    0.256\n",
            "|  1000 batches | accuracy    0.252\n",
            "|  1500 batches | accuracy    0.263\n",
            "-----------------------------------------------------------\n",
            "| end of epoch   1 | time: 219.61s | valid accuracy    0.638 \n",
            "-----------------------------------------------------------\n",
            "|   500 batches | accuracy    0.719\n",
            "|  1000 batches | accuracy    0.854\n",
            "|  1500 batches | accuracy    0.899\n",
            "-----------------------------------------------------------\n",
            "| end of epoch   2 | time: 194.93s | valid accuracy    0.893 \n",
            "-----------------------------------------------------------\n",
            "|   500 batches | accuracy    0.892\n",
            "|  1000 batches | accuracy    0.900\n",
            "|  1500 batches | accuracy    0.918\n",
            "-----------------------------------------------------------\n",
            "| end of epoch   3 | time: 195.68s | valid accuracy    0.903 \n",
            "-----------------------------------------------------------\n",
            "|   500 batches | accuracy    0.897\n",
            "|  1000 batches | accuracy    0.903\n",
            "|  1500 batches | accuracy    0.924\n",
            "-----------------------------------------------------------\n",
            "| end of epoch   4 | time: 195.91s | valid accuracy    0.905 \n",
            "-----------------------------------------------------------\n",
            "|   500 batches | accuracy    0.897\n",
            "|  1000 batches | accuracy    0.903\n",
            "|  1500 batches | accuracy    0.923\n",
            "-----------------------------------------------------------\n",
            "| end of epoch   5 | time: 195.29s | valid accuracy    0.905 \n",
            "-----------------------------------------------------------\n",
            "|   500 batches | accuracy    0.898\n",
            "|  1000 batches | accuracy    0.904\n",
            "|  1500 batches | accuracy    0.923\n",
            "-----------------------------------------------------------\n",
            "| end of epoch   6 | time: 195.48s | valid accuracy    0.905 \n",
            "-----------------------------------------------------------\n",
            "|   500 batches | accuracy    0.899\n",
            "|  1000 batches | accuracy    0.903\n",
            "|  1500 batches | accuracy    0.924\n",
            "-----------------------------------------------------------\n",
            "| end of epoch   7 | time: 195.84s | valid accuracy    0.905 \n",
            "-----------------------------------------------------------\n",
            "|   500 batches | accuracy    0.898\n",
            "|  1000 batches | accuracy    0.903\n",
            "|  1500 batches | accuracy    0.924\n",
            "-----------------------------------------------------------\n",
            "| end of epoch   8 | time: 195.85s | valid accuracy    0.904 \n",
            "-----------------------------------------------------------\n",
            "|   500 batches | accuracy    0.898\n",
            "|  1000 batches | accuracy    0.904\n",
            "|  1500 batches | accuracy    0.924\n",
            "-----------------------------------------------------------\n",
            "| end of epoch   9 | time: 196.61s | valid accuracy    0.905 \n",
            "-----------------------------------------------------------\n",
            "|   500 batches | accuracy    0.898\n",
            "|  1000 batches | accuracy    0.903\n",
            "|  1500 batches | accuracy    0.924\n",
            "-----------------------------------------------------------\n",
            "| end of epoch  10 | time: 196.07s | valid accuracy    0.905 \n",
            "-----------------------------------------------------------\n",
            "\n",
            "\n"
          ]
        },
        {
          "data": {
            "text/html": [
              "<h1>Training model_300</h1>"
            ],
            "text/plain": [
              "<IPython.core.display.HTML object>"
            ]
          },
          "metadata": {},
          "output_type": "display_data"
        },
        {
          "name": "stdout",
          "output_type": "stream",
          "text": [
            "|   500 batches | accuracy    0.256\n",
            "|  1000 batches | accuracy    0.257\n",
            "|  1500 batches | accuracy    0.277\n",
            "-----------------------------------------------------------\n",
            "| end of epoch   1 | time: 268.33s | valid accuracy    0.688 \n",
            "-----------------------------------------------------------\n",
            "|   500 batches | accuracy    0.771\n",
            "|  1000 batches | accuracy    0.868\n",
            "|  1500 batches | accuracy    0.901\n",
            "-----------------------------------------------------------\n",
            "| end of epoch   2 | time: 245.76s | valid accuracy    0.897 \n",
            "-----------------------------------------------------------\n",
            "|   500 batches | accuracy    0.896\n",
            "|  1000 batches | accuracy    0.902\n",
            "|  1500 batches | accuracy    0.921\n",
            "-----------------------------------------------------------\n",
            "| end of epoch   3 | time: 254.89s | valid accuracy    0.907 \n",
            "-----------------------------------------------------------\n",
            "|   500 batches | accuracy    0.899\n",
            "|  1000 batches | accuracy    0.907\n",
            "|  1500 batches | accuracy    0.928\n",
            "-----------------------------------------------------------\n",
            "| end of epoch   4 | time: 246.30s | valid accuracy    0.907 \n",
            "-----------------------------------------------------------\n",
            "|   500 batches | accuracy    0.901\n",
            "|  1000 batches | accuracy    0.905\n",
            "|  1500 batches | accuracy    0.928\n",
            "-----------------------------------------------------------\n",
            "| end of epoch   5 | time: 243.04s | valid accuracy    0.908 \n",
            "-----------------------------------------------------------\n",
            "|   500 batches | accuracy    0.899\n",
            "|  1000 batches | accuracy    0.908\n",
            "|  1500 batches | accuracy    0.928\n",
            "-----------------------------------------------------------\n",
            "| end of epoch   6 | time: 245.51s | valid accuracy    0.907 \n",
            "-----------------------------------------------------------\n",
            "|   500 batches | accuracy    0.900\n",
            "|  1000 batches | accuracy    0.908\n",
            "|  1500 batches | accuracy    0.927\n",
            "-----------------------------------------------------------\n",
            "| end of epoch   7 | time: 244.39s | valid accuracy    0.909 \n",
            "-----------------------------------------------------------\n",
            "|   500 batches | accuracy    0.901\n",
            "|  1000 batches | accuracy    0.906\n",
            "|  1500 batches | accuracy    0.928\n",
            "-----------------------------------------------------------\n",
            "| end of epoch   8 | time: 246.00s | valid accuracy    0.908 \n",
            "-----------------------------------------------------------\n",
            "|   500 batches | accuracy    0.900\n",
            "|  1000 batches | accuracy    0.907\n",
            "|  1500 batches | accuracy    0.929\n",
            "-----------------------------------------------------------\n",
            "| end of epoch   9 | time: 244.87s | valid accuracy    0.908 \n",
            "-----------------------------------------------------------\n",
            "|   500 batches | accuracy    0.900\n",
            "|  1000 batches | accuracy    0.908\n",
            "|  1500 batches | accuracy    0.928\n",
            "-----------------------------------------------------------\n",
            "| end of epoch  10 | time: 247.24s | valid accuracy    0.908 \n",
            "-----------------------------------------------------------\n",
            "\n",
            "\n"
          ]
        }
      ],
      "source": [
        "models_accuracy = pd.DataFrame(columns=['Model', 'Train Accuracy', 'Test Accuracy'])\n",
        "\n",
        "for model_name, (model, optimizer, scheduler) in models.items():\n",
        "    display(HTML(f\"<h1>Training {model_name}</h1>\"))\n",
        "    for epoch in range(1, EPOCHS + 1):\n",
        "        epoch_start_time = time.time()\n",
        "\n",
        "        accu_train = train(model, train_dataloader, criterion, optimizer)\n",
        "        accu_val = evaluate(model, test_dataloader, criterion)\n",
        "\n",
        "        if accu_train > accu_val:\n",
        "            scheduler.step()\n",
        "\n",
        "        print(\"-\" * 59)\n",
        "        print(\n",
        "            \"| end of epoch {:3d} | time: {:5.2f}s | \"\n",
        "            \"valid accuracy {:8.3f} \".format(\n",
        "                epoch, time.time() - epoch_start_time, accu_val\n",
        "            )\n",
        "        )\n",
        "        print(\"-\" * 59)\n",
        "\n",
        "    models_accuracy.loc[len(models_accuracy)] = {'Model': model_name, 'Train Accuracy': accu_train, 'Test Accuracy': accu_val}\n",
        "    print(\"\\n\")"
      ]
    },
    {
      "cell_type": "markdown",
      "metadata": {
        "id": "l6pfgvaykrIJ"
      },
      "source": [
        "## 6. Evaluando los resultados obtenidos"
      ]
    },
    {
      "cell_type": "code",
      "execution_count": 12,
      "metadata": {
        "colab": {
          "base_uri": "https://localhost:8080/",
          "height": 607
        },
        "id": "vkFkqnqYrzSJ",
        "outputId": "6724d69b-6b97-45b2-a92c-f310bd24bb3c"
      },
      "outputs": [
        {
          "data": {
            "image/png": "[encoded data removed]",
            "text/plain": [
              "<Figure size 1200x600 with 2 Axes>"
            ]
          },
          "metadata": {},
          "output_type": "display_data"
        }
      ],
      "source": [
        "plt.figure(figsize=(12, 6))\n",
        "\n",
        "plt.subplot(1, 2, 1)\n",
        "bar_width = 0.35\n",
        "x = range(len(models_accuracy))\n",
        "\n",
        "train_bars = plt.bar(x, models_accuracy['Train Accuracy'], width=bar_width, label='Train Accuracy', color='b', alpha=0.6)\n",
        "test_bars = plt.bar([p + bar_width for p in x], models_accuracy['Test Accuracy'], width=bar_width, label='Test Accuracy', color='orange', alpha=0.6)\n",
        "\n",
        "for bar in train_bars:\n",
        "    yval = bar.get_height()\n",
        "    plt.text(bar.get_x() + bar.get_width() / 2, yval + 0.0001, round(yval, 4), ha='center', va='bottom')\n",
        "\n",
        "for bar in test_bars:\n",
        "    yval = bar.get_height()\n",
        "    plt.text(bar.get_x() + bar.get_width() / 2, yval + 0.0001, round(yval, 4), ha='center', va='bottom')\n",
        "\n",
        "custom_labels = ['50d', '100d', '200d', '300d']\n",
        "plt.xlabel('Model')\n",
        "plt.ylabel('Accuracy')\n",
        "plt.title('Model Training and Test Accuracy')\n",
        "plt.xticks([p + bar_width / 2 for p in x], custom_labels)\n",
        "plt.legend()\n",
        "plt.ylim(0.9, 0.931)\n",
        "plt.grid()\n",
        "\n",
        "plt.subplot(1, 2, 2)\n",
        "plt.plot(x, models_accuracy['Train Accuracy'], marker='o', label='Train Accuracy', color='b', alpha=0.6)\n",
        "plt.plot(x, models_accuracy['Test Accuracy'], marker='o', label='Test Accuracy', color='orange', alpha=0.6)\n",
        "plt.xlabel('Model')\n",
        "plt.ylabel('Accuracy')\n",
        "plt.title('Model Training and Test Accuracy')\n",
        "plt.xticks(x, custom_labels)\n",
        "plt.legend()\n",
        "plt.grid()\n",
        "\n",
        "plt.tight_layout()\n",
        "plt.show()"
      ]
    },
    {
      "cell_type": "code",
      "execution_count": 13,
      "metadata": {
        "colab": {
          "base_uri": "https://localhost:8080/",
          "height": 607
        },
        "id": "G-6Ivr9GMQEL",
        "outputId": "cd43743d-6f03-4c24-f91d-efbb4029d786"
      },
      "outputs": [
        {
          "data": {
            "image/png": "[encoded data removed]",
            "text/plain": [
              "<Figure size 1200x600 with 2 Axes>"
            ]
          },
          "metadata": {},
          "output_type": "display_data"
        }
      ],
      "source": [
        "plt.figure(figsize=(12, 6))\n",
        "\n",
        "plt.subplot(1, 2, 1)\n",
        "x = range(len(models_accuracy))\n",
        "plt.plot(x, models_accuracy['Train Accuracy'], marker='o', label='Train Accuracy', color='b', alpha=0.6)\n",
        "plt.xlabel('Model')\n",
        "plt.ylabel('Accuracy')\n",
        "plt.title('Model Training Accuracy')\n",
        "plt.xticks(x, custom_labels)\n",
        "plt.grid()\n",
        "plt.legend()\n",
        "\n",
        "plt.subplot(1, 2, 2)\n",
        "plt.plot(x, models_accuracy['Test Accuracy'], marker='o', label='Test Accuracy', color='orange', alpha=0.6)\n",
        "plt.xlabel('Model')\n",
        "plt.ylabel('Accuracy')\n",
        "plt.title('Model Test Accuracy')\n",
        "plt.xticks(x, custom_labels)\n",
        "plt.grid()\n",
        "plt.legend()\n",
        "\n",
        "plt.tight_layout()\n",
        "plt.show()"
      ]
    },
    {
      "cell_type": "markdown",
      "metadata": {
        "id": "AWqoQcZsoDpw"
      },
      "source": [
        "Con base en los gráficos, se puede concluir que la precisión del modelo aumenta tanto en el conjunto de entrenamiento como en el de prueba a medida que se incrementa la complejidad del modelo. En el caso del **conjunto de entrenamiento**, la precisión se mantiene constante en los primeros modelos (50d y 100d) con un valor de 0.9182, pero aumenta gradualmente a medida que el modelo se hace más grande, alcanzando una precisión de 0.9278 en el modelo de 300d.\n",
        "\n",
        "Por otro lado, la precisión en el **conjunto de prueba**, aunque es más baja que en el entrenamiento, también mejora conforme el modelo crece. Comienza en 0.9018 para el modelo de 50d, y aunque la mejora es menor, sigue una tendencia ascendente, alcanzando su punto máximo en 0.9082 con el modelo más grande (300d). Esta diferencia sugiere que el modelo está generalizando mejor con tamaños mayores, aunque la ganancia no es tan significativa.\n",
        "\n",
        "Sin embargo, es importante notar que la diferencia entre la precisión del entrenamiento y la de prueba se amplía a medida que crece el tamaño del modelo, lo que podría indicar un **riesgo de sobreajuste** (overfitting). Esto sugiere que, aunque modelos más complejos logran mejores resultados, los incrementos en la precisión del conjunto de prueba son menores comparados con los del entrenamiento, lo que implica que seguir aumentando la complejidad podría llevar a rendimientos decrecientes."
      ]
    }
  ],
  "metadata": {
    "colab": {
      "provenance": []
    },
    "kernelspec": {
      "display_name": "pln",
      "language": "python",
      "name": "python3"
    },
    "language_info": {
      "codemirror_mode": {
        "name": "ipython",
        "version": 3
      },
      "file_extension": ".py",
      "mimetype": "text/x-python",
      "name": "python",
      "nbconvert_exporter": "python",
      "pygments_lexer": "ipython3",
      "version": "3.10.14"
    }
  },
  "nbformat": 4,
  "nbformat_minor": 0
}
